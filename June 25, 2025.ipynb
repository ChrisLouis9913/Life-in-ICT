{
 "cells": [
  {
   "cell_type": "markdown",
   "id": "965f764e",
   "metadata": {},
   "source": [
    "# June 25, 2025"
   ]
  },
  {
   "cell_type": "markdown",
   "id": "d98e52d6",
   "metadata": {},
   "source": [
    "## Design Thinking I"
   ]
  },
  {
   "cell_type": "markdown",
   "id": "ffa4a7cf",
   "metadata": {},
   "source": [
    "### Design an app. It can be anything"
   ]
  },
  {
   "cell_type": "markdown",
   "id": "3a6f07d8",
   "metadata": {},
   "source": [
    "My idea: My KSRTC.\n",
    "\n",
    "- Requirements:\n",
    "    - GPS\n",
    "    - Network Connection\n",
    "    - Bus Timings\n",
    "    - Names of stops\n",
    "- Accounts can be of two types: The bus staff and the passenger\n",
    "    - In the bus staff account, the driver/conductor has to login and link his account and location to the bus route provided. With this, when he reaches a particular bus station, he can tick the stop along the route, saying that he reached there.\n",
    "    - In the passenger account, the passenger selects the starting point and the destination and the buses going along the route with their location and prices will be displayed. All the passenger needs to do is keep track of the updated data sent by the bus staff regarding where he is.\n",
    "    - A knowledge of the traffic conditions is required. In case of long-distance travel, ETA will be displayed in the passenger app. The bus staff will get the distance left and ETA."
   ]
  }
 ],
 "metadata": {
  "language_info": {
   "name": "python"
  }
 },
 "nbformat": 4,
 "nbformat_minor": 5
}
