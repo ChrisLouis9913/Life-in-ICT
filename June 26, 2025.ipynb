{
 "cells": [
  {
   "cell_type": "markdown",
   "id": "f7a6d155",
   "metadata": {},
   "source": [
    "# June 26, 2025"
   ]
  },
  {
   "cell_type": "markdown",
   "id": "6bcddbe6",
   "metadata": {},
   "source": [
    "## Design Thinking II - Continuation of Part 1 on June 25, 2025"
   ]
  }
 ],
 "metadata": {
  "language_info": {
   "name": "python"
  }
 },
 "nbformat": 4,
 "nbformat_minor": 5
}
