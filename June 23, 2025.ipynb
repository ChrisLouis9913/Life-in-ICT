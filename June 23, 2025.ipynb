{
 "cells": [
  {
   "cell_type": "markdown",
   "id": "5382ff77",
   "metadata": {},
   "source": [
    "# June 23, 2025"
   ]
  },
  {
   "cell_type": "markdown",
   "id": "8182bd9a",
   "metadata": {},
   "source": [
    "## Different keyboard shortcuts"
   ]
  },
  {
   "cell_type": "markdown",
   "id": "7a95189b",
   "metadata": {},
   "source": [
    "* Win+X - Power Menu\n",
    "* Ctrl+Shift+Esc - Tak Manager\n",
    "* Ctrl+Run new task - Command Prompt\n",
    "* Ctrl+Alt+Del - Logout of a user\n",
    "* Ctrl+Tab - Switch tabs on a browser\n",
    "* Alt+Tab - navigate between tabs on a browser\n",
    "* Win+R - Run menu\n",
    "* Win+H - Microphone and Speech Services\n",
    "* Win+Shift+S - Screenshot\n",
    "* Win+Alt+R - Screen Recording\n",
    "* Ctrl+C - Copy\n",
    "* Ctrl+V - Paste\n",
    "* Ctrl+Z - Undo\n",
    "* Ctrl+Y - Redo\n",
    "* Win+S - Search Menu\n",
    "* Win+L - Lock the system\n",
    "* Win+. - Emoji Adder\n",
    "* Win+Z - Split Screen\n",
    "* To access the keyboard without using the keyboard - Start Menu -> Accessibility -> On screen keyboard"
   ]
  },
  {
   "cell_type": "markdown",
   "id": "5bb07cf8",
   "metadata": {},
   "source": [
    "## Know yourself"
   ]
  },
  {
   "cell_type": "markdown",
   "id": "320af470",
   "metadata": {},
   "source": [
    "- Your name\n",
    "- Where you came from\n",
    "- Your hobbies\n",
    "- Your strengths\n",
    "- Your dreams/life plans"
   ]
  }
 ],
 "metadata": {
  "language_info": {
   "name": "python"
  }
 },
 "nbformat": 4,
 "nbformat_minor": 5
}
