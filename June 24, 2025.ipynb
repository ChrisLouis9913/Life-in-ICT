{
 "cells": [
  {
   "cell_type": "markdown",
   "id": "4f368556",
   "metadata": {},
   "source": [
    "# June 24, 2025"
   ]
  },
  {
   "cell_type": "markdown",
   "id": "e9080e3f",
   "metadata": {},
   "source": [
    "## IT Foundations - Google Productivity AI and Platform Orientation"
   ]
  },
  {
   "cell_type": "markdown",
   "id": "b5a420d6",
   "metadata": {},
   "source": [
    "- Typing club\n",
    "- Importance of GitHub profile in Data Science and Machine Learning"
   ]
  },
  {
   "cell_type": "markdown",
   "id": "84829390",
   "metadata": {},
   "source": [
    "## Introduction to Google Docs and Google Sheets"
   ]
  }
 ],
 "metadata": {
  "language_info": {
   "name": "python"
  }
 },
 "nbformat": 4,
 "nbformat_minor": 5
}
