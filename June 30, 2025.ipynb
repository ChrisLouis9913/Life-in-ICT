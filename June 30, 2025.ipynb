{
 "cells": [
  {
   "cell_type": "markdown",
   "id": "618a9066",
   "metadata": {},
   "source": [
    "# June 30, 2025"
   ]
  },
  {
   "cell_type": "markdown",
   "id": "7916f7ca",
   "metadata": {},
   "source": [
    "## Demystifying the terms “Data Science”, “Machine Learning” and “Artificial Intelligence”"
   ]
  },
  {
   "cell_type": "markdown",
   "id": "dd0efd57",
   "metadata": {},
   "source": [
    "* **Artificial Intelligence**\n",
    "\n",
    "* **Artificial General Intelligence**\n",
    "\n",
    "* **History of Artificial Intelligence**\n",
    "    - Perceptron\n",
    "    - Backpropagation\n",
    "    - AI Winter\n",
    "    - DARPA Grand Challenge 2005\n",
    "    - ImageNet 2012\n",
    "    - 2024 Nobel Prize in Physics\n",
    "    - DeepSeek\n",
    "* **Key Deciding Factors of growth of AI**\n",
    "\n",
    "    - Data\n",
    "    - Computation\n",
    "    - Algorithmic Improvements\n",
    "\n",
    "* **Data Science, Machine Learning and Artificial Intelligence**\n",
    "\n",
    "* **Data Science Application Domains**\n",
    "\n",
    "* **Correlation vs Causation**\n",
    "\n",
    "* **Ethics in AI**"
   ]
  }
 ],
 "metadata": {
  "language_info": {
   "name": "python"
  }
 },
 "nbformat": 4,
 "nbformat_minor": 5
}
